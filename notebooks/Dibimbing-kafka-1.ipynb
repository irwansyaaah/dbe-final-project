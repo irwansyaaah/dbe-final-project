{
 "cells": [
  {
   "cell_type": "code",
   "execution_count": 1,
   "id": "25846da4-c6b2-46a5-b7d1-9809732bb1b9",
   "metadata": {
    "tags": []
   },
   "outputs": [],
   "source": [
    "import json\n",
    "import uuid\n",
    "import os\n",
    "import json\n",
    "from dotenv import load_dotenv\n",
    "from pathlib import Path\n",
    "from kafka import KafkaProducer\n",
    "from faker import Faker\n",
    "from time import sleep"
   ]
  },
  {
   "cell_type": "code",
   "execution_count": 2,
   "id": "42f97822-c06f-47e0-a0a4-87a7bf1d95a9",
   "metadata": {
    "tags": []
   },
   "outputs": [
    {
     "data": {
      "text/plain": [
       "True"
      ]
     },
     "execution_count": 2,
     "metadata": {},
     "output_type": "execute_result"
    }
   ],
   "source": [
    "dotenv_path = Path('/resources/.env')\n",
    "load_dotenv(dotenv_path=dotenv_path)"
   ]
  },
  {
   "cell_type": "code",
   "execution_count": 3,
   "id": "3f89f5a9-8c75-4a38-b48d-ad72c6a13c41",
   "metadata": {
    "tags": []
   },
   "outputs": [],
   "source": [
    "kafka_host = os.getenv('KAFKA_HOST')\n",
    "kafka_topic = os.getenv('KAFKA_TOPIC_NAME')\n",
    "kafka_topic_partition = os.getenv('KAFKA_TOPIC_NAME')+\"-1\"\n",
    "# kafka_topic_partition = \"dibimbing_batch_6\""
   ]
  },
  {
   "cell_type": "code",
   "execution_count": 4,
   "id": "a4a59d22-69c5-4e0a-b1e2-d0d77867c45b",
   "metadata": {
    "tags": []
   },
   "outputs": [
    {
     "name": "stdout",
     "output_type": "stream",
     "text": [
      "dataeng-kafka\n"
     ]
    }
   ],
   "source": [
    "print(kafka_host)"
   ]
  },
  {
   "cell_type": "code",
   "execution_count": 5,
   "id": "8515096d-3bc6-4905-98f5-eb1e6d7bfa4c",
   "metadata": {
    "tags": []
   },
   "outputs": [],
   "source": [
    "producer = KafkaProducer(bootstrap_servers=f'{kafka_host}:9092')"
   ]
  },
  {
   "cell_type": "code",
   "execution_count": 6,
   "id": "78075b5c-08c8-4c43-99a1-0689a87414c4",
   "metadata": {
    "tags": []
   },
   "outputs": [],
   "source": [
    "_instance = Faker()\n",
    "global faker\n",
    "faker = Faker()"
   ]
  },
  {
   "cell_type": "code",
   "execution_count": null,
   "id": "503ade79-0f77-4970-8e04-ecefce397398",
   "metadata": {
    "tags": []
   },
   "outputs": [
    {
     "name": "stdout",
     "output_type": "stream",
     "text": [
      "31ea26ee-799d-400a-9823-b2026498f8c8 RecordMetadata(topic='test-topic-1', partition=0, topic_partition=TopicPartition(topic='test-topic-1', partition=0), offset=0, timestamp=1742632791002, log_start_offset=0, checksum=None, serialized_key_size=-1, serialized_value_size=187, serialized_header_size=-1)\n",
      "be5958b2-e733-4dec-b1db-48c526773be0 RecordMetadata(topic='test-topic-1', partition=0, topic_partition=TopicPartition(topic='test-topic-1', partition=0), offset=1, timestamp=1742632796032, log_start_offset=0, checksum=None, serialized_key_size=-1, serialized_value_size=182, serialized_header_size=-1)\n",
      "e213a6a3-a9f0-49d8-8998-1b55fecc7b01 RecordMetadata(topic='test-topic-1', partition=0, topic_partition=TopicPartition(topic='test-topic-1', partition=0), offset=2, timestamp=1742632801040, log_start_offset=0, checksum=None, serialized_key_size=-1, serialized_value_size=182, serialized_header_size=-1)\n",
      "08e0c4ff-3d3f-4c06-8d23-3c1bca2da1da RecordMetadata(topic='test-topic-1', partition=0, topic_partition=TopicPartition(topic='test-topic-1', partition=0), offset=3, timestamp=1742632808898, log_start_offset=0, checksum=None, serialized_key_size=-1, serialized_value_size=187, serialized_header_size=-1)\n",
      "e14f5886-b2da-42d5-aea0-227ff1f7fbb0 RecordMetadata(topic='test-topic-1', partition=0, topic_partition=TopicPartition(topic='test-topic-1', partition=0), offset=4, timestamp=1742632813907, log_start_offset=0, checksum=None, serialized_key_size=-1, serialized_value_size=192, serialized_header_size=-1)\n",
      "6bff4c8b-e3d7-4e3d-8953-3cd54a7037d6 RecordMetadata(topic='test-topic-1', partition=0, topic_partition=TopicPartition(topic='test-topic-1', partition=0), offset=5, timestamp=1742632818912, log_start_offset=0, checksum=None, serialized_key_size=-1, serialized_value_size=180, serialized_header_size=-1)\n",
      "19505c37-ca73-4dd9-882e-fa1f0a323636 RecordMetadata(topic='test-topic-1', partition=0, topic_partition=TopicPartition(topic='test-topic-1', partition=0), offset=6, timestamp=1742632823918, log_start_offset=0, checksum=None, serialized_key_size=-1, serialized_value_size=177, serialized_header_size=-1)\n",
      "a0df8a84-6d5e-4653-a3b8-43fbf192f988 RecordMetadata(topic='test-topic-1', partition=0, topic_partition=TopicPartition(topic='test-topic-1', partition=0), offset=7, timestamp=1742632828923, log_start_offset=0, checksum=None, serialized_key_size=-1, serialized_value_size=180, serialized_header_size=-1)\n",
      "57327816-59f9-468e-98b3-6942da3686f4 RecordMetadata(topic='test-topic-1', partition=0, topic_partition=TopicPartition(topic='test-topic-1', partition=0), offset=8, timestamp=1742632833931, log_start_offset=0, checksum=None, serialized_key_size=-1, serialized_value_size=183, serialized_header_size=-1)\n",
      "9ca186fc-5c16-4aac-819e-727d2ce33a60 RecordMetadata(topic='test-topic-1', partition=0, topic_partition=TopicPartition(topic='test-topic-1', partition=0), offset=9, timestamp=1742632841366, log_start_offset=0, checksum=None, serialized_key_size=-1, serialized_value_size=179, serialized_header_size=-1)\n",
      "470e13a5-53d7-4ab8-bbf0-ac0ef3df7ec0 RecordMetadata(topic='test-topic-1', partition=0, topic_partition=TopicPartition(topic='test-topic-1', partition=0), offset=10, timestamp=1742632846374, log_start_offset=0, checksum=None, serialized_key_size=-1, serialized_value_size=180, serialized_header_size=-1)\n",
      "8ea461e4-b522-43c2-a0f7-fb32eaa09656 RecordMetadata(topic='test-topic-1', partition=0, topic_partition=TopicPartition(topic='test-topic-1', partition=0), offset=11, timestamp=1742632851383, log_start_offset=0, checksum=None, serialized_key_size=-1, serialized_value_size=178, serialized_header_size=-1)\n",
      "c8520c35-50a1-4aee-b2d6-bb2efa493928 RecordMetadata(topic='test-topic-1', partition=0, topic_partition=TopicPartition(topic='test-topic-1', partition=0), offset=12, timestamp=1742632856391, log_start_offset=0, checksum=None, serialized_key_size=-1, serialized_value_size=180, serialized_header_size=-1)\n",
      "d47e2ea6-1e05-43cd-8030-5c0dd22f560e RecordMetadata(topic='test-topic-1', partition=0, topic_partition=TopicPartition(topic='test-topic-1', partition=0), offset=13, timestamp=1742632861400, log_start_offset=0, checksum=None, serialized_key_size=-1, serialized_value_size=184, serialized_header_size=-1)\n",
      "2fd53e2d-4566-491f-bca5-72b93d947c8e RecordMetadata(topic='test-topic-1', partition=0, topic_partition=TopicPartition(topic='test-topic-1', partition=0), offset=14, timestamp=1742632866405, log_start_offset=0, checksum=None, serialized_key_size=-1, serialized_value_size=180, serialized_header_size=-1)\n"
     ]
    }
   ],
   "source": [
    "class DataGenerator(object):\n",
    "    @staticmethod\n",
    "    def get_data():\n",
    "        return [\n",
    "                uuid.uuid4().__str__(),\n",
    "                faker.name(),\n",
    "                faker.random_element(elements=('IT', 'HR', 'Sales', 'Marketing')),\n",
    "                faker.random_element(elements=('CA', 'NY', 'TX', 'FL', 'IL', 'RJ')),\n",
    "                faker.random_int(min=10000, max=150000),\n",
    "                faker.random_int(min=18, max=60),\n",
    "                faker.random_int(min=0, max=100000),\n",
    "                faker.unix_time()\n",
    "        ]\n",
    "\n",
    "for i in range(1,400):\n",
    "    columns =  [\"emp_id\", \"employee_name\", \"department\", \"state\", \"salary\", \"age\", \"bonus\", \"ts\", \"new\"]\n",
    "    data_list = DataGenerator.get_data()\n",
    "    json_data = dict(\n",
    "        zip(columns,data_list)\n",
    "    )\n",
    "    _payload = json.dumps(json_data).encode(\"utf-8\")\n",
    "    response = producer.send(topic=kafka_topic_partition, value=_payload)\n",
    "    # response = producer.send(topic=kafka_topic_partition, value=_payload, partition=2)\n",
    "    print(json_data['emp_id'],response.get())\n",
    "    # print(_payload)\n",
    "    sleep(5)"
   ]
  },
  {
   "cell_type": "code",
   "execution_count": null,
   "id": "be1f121f-6f90-441c-a027-c095f5903ac9",
   "metadata": {},
   "outputs": [],
   "source": []
  }
 ],
 "metadata": {
  "kernelspec": {
   "display_name": "Python 3 (ipykernel)",
   "language": "python",
   "name": "python3"
  },
  "language_info": {
   "codemirror_mode": {
    "name": "ipython",
    "version": 3
   },
   "file_extension": ".py",
   "mimetype": "text/x-python",
   "name": "python",
   "nbconvert_exporter": "python",
   "pygments_lexer": "ipython3",
   "version": "3.10.10"
  }
 },
 "nbformat": 4,
 "nbformat_minor": 5
}
